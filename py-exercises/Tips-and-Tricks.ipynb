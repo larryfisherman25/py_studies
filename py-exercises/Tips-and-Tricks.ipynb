{
 "cells": [
  {
   "cell_type": "markdown",
   "metadata": {},
   "source": [
    "### 1. Run Terminal Commands in Jupyter"
   ]
  },
  {
   "cell_type": "code",
   "execution_count": 1,
   "metadata": {
    "collapsed": true,
    "jupyter": {
     "outputs_hidden": true
    }
   },
   "outputs": [
    {
     "name": "stdout",
     "output_type": "stream",
     "text": [
      "Requirement already satisfied: seaborn in c:\\users\\fanali\\anaconda3\\lib\\site-packages (0.10.1)\n",
      "Requirement already satisfied: scipy>=1.0.1 in c:\\users\\fanali\\anaconda3\\lib\\site-packages (from seaborn) (1.5.0)\n",
      "Requirement already satisfied: pandas>=0.22.0 in c:\\users\\fanali\\anaconda3\\lib\\site-packages (from seaborn) (1.0.5)\n",
      "Requirement already satisfied: numpy>=1.13.3 in c:\\users\\fanali\\anaconda3\\lib\\site-packages (from seaborn) (1.18.5)\n",
      "Requirement already satisfied: matplotlib>=2.1.2 in c:\\users\\fanali\\anaconda3\\lib\\site-packages (from seaborn) (3.2.2)\n",
      "Requirement already satisfied: pytz>=2017.2 in c:\\users\\fanali\\anaconda3\\lib\\site-packages (from pandas>=0.22.0->seaborn) (2020.1)\n",
      "Requirement already satisfied: python-dateutil>=2.6.1 in c:\\users\\fanali\\anaconda3\\lib\\site-packages (from pandas>=0.22.0->seaborn) (2.8.1)\n",
      "Requirement already satisfied: pyparsing!=2.0.4,!=2.1.2,!=2.1.6,>=2.0.1 in c:\\users\\fanali\\anaconda3\\lib\\site-packages (from matplotlib>=2.1.2->seaborn) (2.4.7)\n",
      "Requirement already satisfied: kiwisolver>=1.0.1 in c:\\users\\fanali\\anaconda3\\lib\\site-packages (from matplotlib>=2.1.2->seaborn) (1.2.0)\n",
      "Requirement already satisfied: cycler>=0.10 in c:\\users\\fanali\\anaconda3\\lib\\site-packages (from matplotlib>=2.1.2->seaborn) (0.10.0)\n",
      "Requirement already satisfied: six>=1.5 in c:\\users\\fanali\\anaconda3\\lib\\site-packages (from python-dateutil>=2.6.1->pandas>=0.22.0->seaborn) (1.15.0)\n"
     ]
    }
   ],
   "source": [
    "!pip install seaborn"
   ]
  },
  {
   "cell_type": "code",
   "execution_count": 2,
   "metadata": {
    "collapsed": true,
    "jupyter": {
     "outputs_hidden": true
    }
   },
   "outputs": [
    {
     "name": "stderr",
     "output_type": "stream",
     "text": [
      "'ls' nÆo ‚ reconhecido como um comando interno\n",
      "ou externo, um programa oper vel ou um arquivo em lotes.\n"
     ]
    }
   ],
   "source": [
    "!ls"
   ]
  },
  {
   "cell_type": "code",
   "execution_count": 3,
   "metadata": {
    "collapsed": true,
    "jupyter": {
     "outputs_hidden": true
    }
   },
   "outputs": [
    {
     "name": "stderr",
     "output_type": "stream",
     "text": [
      "'cowsay' nÆo ‚ reconhecido como um comando interno\n",
      "ou externo, um programa oper vel ou um arquivo em lotes.\n"
     ]
    }
   ],
   "source": [
    "!cowsay \"wow!\""
   ]
  },
  {
   "cell_type": "code",
   "execution_count": 4,
   "metadata": {
    "collapsed": true,
    "jupyter": {
     "outputs_hidden": true
    }
   },
   "outputs": [
    {
     "name": "stdout",
     "output_type": "stream",
     "text": [
      "Requirement already satisfied: seaborn in c:\\users\\fanali\\anaconda3\\lib\\site-packages (0.10.1)\n",
      "Requirement already satisfied: matplotlib>=2.1.2 in c:\\users\\fanali\\anaconda3\\lib\\site-packages (from seaborn) (3.2.2)\n",
      "Requirement already satisfied: numpy>=1.13.3 in c:\\users\\fanali\\anaconda3\\lib\\site-packages (from seaborn) (1.18.5)\n",
      "Requirement already satisfied: pandas>=0.22.0 in c:\\users\\fanali\\anaconda3\\lib\\site-packages (from seaborn) (1.0.5)\n",
      "Requirement already satisfied: scipy>=1.0.1 in c:\\users\\fanali\\anaconda3\\lib\\site-packages (from seaborn) (1.5.0)\n",
      "Requirement already satisfied: kiwisolver>=1.0.1 in c:\\users\\fanali\\anaconda3\\lib\\site-packages (from matplotlib>=2.1.2->seaborn) (1.2.0)\n",
      "Requirement already satisfied: pyparsing!=2.0.4,!=2.1.2,!=2.1.6,>=2.0.1 in c:\\users\\fanali\\anaconda3\\lib\\site-packages (from matplotlib>=2.1.2->seaborn) (2.4.7)\n",
      "Requirement already satisfied: python-dateutil>=2.1 in c:\\users\\fanali\\anaconda3\\lib\\site-packages (from matplotlib>=2.1.2->seaborn) (2.8.1)\n",
      "Requirement already satisfied: cycler>=0.10 in c:\\users\\fanali\\anaconda3\\lib\\site-packages (from matplotlib>=2.1.2->seaborn) (0.10.0)\n",
      "Requirement already satisfied: pytz>=2017.2 in c:\\users\\fanali\\anaconda3\\lib\\site-packages (from pandas>=0.22.0->seaborn) (2020.1)\n",
      "Requirement already satisfied: six>=1.5 in c:\\users\\fanali\\anaconda3\\lib\\site-packages (from python-dateutil>=2.1->matplotlib>=2.1.2->seaborn) (1.15.0)\n",
      "Note: you may need to restart the kernel to use updated packages.\n"
     ]
    }
   ],
   "source": [
    "%pip install seaborn"
   ]
  },
  {
   "cell_type": "markdown",
   "metadata": {},
   "source": [
    "### 2. Shortcuts in Jupyter Notebooks"
   ]
  },
  {
   "cell_type": "markdown",
   "metadata": {},
   "source": [
    "M: switch to markdown </br>\n",
    "A: create cells above </br>\n",
    "B: create cells bellow </br>\n",
    "D+D: delete cell </br>\n",
    "Y: switch to code </br>\n",
    "\n",
    "ctrl+enter: runcell and stay on cell </br>\n",
    "shift+enter: run cell and go to next </br>"
   ]
  },
  {
   "cell_type": "markdown",
   "metadata": {},
   "source": [
    "### 3. Changing Pandas Display Options "
   ]
  },
  {
   "cell_type": "code",
   "execution_count": 5,
   "metadata": {
    "collapsed": true,
    "jupyter": {
     "outputs_hidden": true
    }
   },
   "outputs": [
    {
     "ename": "NameError",
     "evalue": "name 'pd' is not defined",
     "output_type": "error",
     "traceback": [
      "\u001b[1;31m---------------------------------------------------------------------------\u001b[0m",
      "\u001b[1;31mNameError\u001b[0m                                 Traceback (most recent call last)",
      "\u001b[1;32m<ipython-input-5-6483cf9e87e3>\u001b[0m in \u001b[0;36m<module>\u001b[1;34m\u001b[0m\n\u001b[1;32m----> 1\u001b[1;33m \u001b[0mpd\u001b[0m\u001b[1;33m.\u001b[0m\u001b[0moptions\u001b[0m\u001b[1;33m.\u001b[0m\u001b[0mdisplay\u001b[0m\u001b[1;33m.\u001b[0m\u001b[0mmax_rows\u001b[0m \u001b[1;33m=\u001b[0m \u001b[1;36m200\u001b[0m\u001b[1;33m\u001b[0m\u001b[1;33m\u001b[0m\u001b[0m\n\u001b[0m\u001b[0;32m      2\u001b[0m \u001b[0mpd\u001b[0m\u001b[1;33m.\u001b[0m\u001b[0moptions\u001b[0m\u001b[1;33m.\u001b[0m\u001b[0mdisplay\u001b[0m\u001b[1;33m.\u001b[0m\u001b[0mmax_columns\u001b[0m \u001b[1;33m=\u001b[0m \u001b[1;36m30\u001b[0m\u001b[1;33m\u001b[0m\u001b[1;33m\u001b[0m\u001b[0m\n\u001b[0;32m      3\u001b[0m \u001b[0mpd\u001b[0m\u001b[1;33m.\u001b[0m\u001b[0moptions\u001b[0m\u001b[1;33m.\u001b[0m\u001b[0mdisplay\u001b[0m\u001b[1;33m.\u001b[0m\u001b[0mmax_colwidth\u001b[0m\u001b[1;33m\u001b[0m\u001b[1;33m\u001b[0m\u001b[0m\n",
      "\u001b[1;31mNameError\u001b[0m: name 'pd' is not defined"
     ]
    }
   ],
   "source": [
    "pd.options.display.max_rows = 200\n",
    "pd.options.display.max_columns = 30\n",
    "pd.options.display.max_colwidth\n",
    "pd.options.display.precision"
   ]
  },
  {
   "cell_type": "markdown",
   "metadata": {},
   "source": [
    "### 4. Setting up alerts when cells finished"
   ]
  },
  {
   "cell_type": "code",
   "execution_count": 6,
   "metadata": {
    "collapsed": true,
    "jupyter": {
     "outputs_hidden": true
    }
   },
   "outputs": [
    {
     "name": "stdout",
     "output_type": "stream",
     "text": [
      "Collecting jupyternotify\n",
      "  Downloading jupyternotify-0.1.15.tar.gz (7.2 kB)\n",
      "Requirement already satisfied: ipython in c:\\users\\fanali\\anaconda3\\lib\\site-packages (from jupyternotify) (7.16.1)\n",
      "Requirement already satisfied: jupyter in c:\\users\\fanali\\anaconda3\\lib\\site-packages (from jupyternotify) (1.0.0)\n",
      "Requirement already satisfied: pygments in c:\\users\\fanali\\anaconda3\\lib\\site-packages (from ipython->jupyternotify) (2.6.1)\n",
      "Requirement already satisfied: backcall in c:\\users\\fanali\\anaconda3\\lib\\site-packages (from ipython->jupyternotify) (0.2.0)\n",
      "Requirement already satisfied: colorama; sys_platform == \"win32\" in c:\\users\\fanali\\anaconda3\\lib\\site-packages (from ipython->jupyternotify) (0.4.3)\n",
      "Requirement already satisfied: traitlets>=4.2 in c:\\users\\fanali\\anaconda3\\lib\\site-packages (from ipython->jupyternotify) (4.3.3)\n",
      "Requirement already satisfied: jedi>=0.10 in c:\\users\\fanali\\anaconda3\\lib\\site-packages (from ipython->jupyternotify) (0.17.1)\n",
      "Requirement already satisfied: pickleshare in c:\\users\\fanali\\anaconda3\\lib\\site-packages (from ipython->jupyternotify) (0.7.5)\n",
      "Requirement already satisfied: setuptools>=18.5 in c:\\users\\fanali\\anaconda3\\lib\\site-packages (from ipython->jupyternotify) (49.2.0.post20200714)\n",
      "Requirement already satisfied: decorator in c:\\users\\fanali\\anaconda3\\lib\\site-packages (from ipython->jupyternotify) (4.4.2)\n",
      "Requirement already satisfied: prompt-toolkit!=3.0.0,!=3.0.1,<3.1.0,>=2.0.0 in c:\\users\\fanali\\anaconda3\\lib\\site-packages (from ipython->jupyternotify) (3.0.5)\n",
      "Requirement already satisfied: ipywidgets in c:\\users\\fanali\\anaconda3\\lib\\site-packages (from jupyter->jupyternotify) (7.5.1)\n",
      "Requirement already satisfied: ipykernel in c:\\users\\fanali\\anaconda3\\lib\\site-packages (from jupyter->jupyternotify) (5.3.2)\n",
      "Requirement already satisfied: nbconvert in c:\\users\\fanali\\anaconda3\\lib\\site-packages (from jupyter->jupyternotify) (5.6.1)\n",
      "Requirement already satisfied: notebook in c:\\users\\fanali\\anaconda3\\lib\\site-packages (from jupyter->jupyternotify) (6.0.3)\n",
      "Requirement already satisfied: qtconsole in c:\\users\\fanali\\anaconda3\\lib\\site-packages (from jupyter->jupyternotify) (4.7.5)\n",
      "Requirement already satisfied: jupyter-console in c:\\users\\fanali\\anaconda3\\lib\\site-packages (from jupyter->jupyternotify) (6.1.0)\n",
      "Requirement already satisfied: ipython-genutils in c:\\users\\fanali\\anaconda3\\lib\\site-packages (from traitlets>=4.2->ipython->jupyternotify) (0.2.0)\n",
      "Requirement already satisfied: six in c:\\users\\fanali\\anaconda3\\lib\\site-packages (from traitlets>=4.2->ipython->jupyternotify) (1.15.0)\n",
      "Requirement already satisfied: parso<0.8.0,>=0.7.0 in c:\\users\\fanali\\anaconda3\\lib\\site-packages (from jedi>=0.10->ipython->jupyternotify) (0.7.0)\n",
      "Requirement already satisfied: wcwidth in c:\\users\\fanali\\anaconda3\\lib\\site-packages (from prompt-toolkit!=3.0.0,!=3.0.1,<3.1.0,>=2.0.0->ipython->jupyternotify) (0.2.5)\n",
      "Requirement already satisfied: widgetsnbextension~=3.5.0 in c:\\users\\fanali\\anaconda3\\lib\\site-packages (from ipywidgets->jupyter->jupyternotify) (3.5.1)\n",
      "Requirement already satisfied: nbformat>=4.2.0 in c:\\users\\fanali\\anaconda3\\lib\\site-packages (from ipywidgets->jupyter->jupyternotify) (5.0.7)\n",
      "Requirement already satisfied: tornado>=4.2 in c:\\users\\fanali\\anaconda3\\lib\\site-packages (from ipykernel->jupyter->jupyternotify) (6.0.4)\n",
      "Requirement already satisfied: jupyter-client in c:\\users\\fanali\\anaconda3\\lib\\site-packages (from ipykernel->jupyter->jupyternotify) (6.1.6)\n",
      "Requirement already satisfied: jupyter-core in c:\\users\\fanali\\anaconda3\\lib\\site-packages (from nbconvert->jupyter->jupyternotify) (4.6.3)\n",
      "Requirement already satisfied: defusedxml in c:\\users\\fanali\\anaconda3\\lib\\site-packages (from nbconvert->jupyter->jupyternotify) (0.6.0)\n",
      "Requirement already satisfied: pandocfilters>=1.4.1 in c:\\users\\fanali\\anaconda3\\lib\\site-packages (from nbconvert->jupyter->jupyternotify) (1.4.2)\n",
      "Requirement already satisfied: bleach in c:\\users\\fanali\\anaconda3\\lib\\site-packages (from nbconvert->jupyter->jupyternotify) (3.1.5)\n",
      "Requirement already satisfied: jinja2>=2.4 in c:\\users\\fanali\\anaconda3\\lib\\site-packages (from nbconvert->jupyter->jupyternotify) (2.11.2)\n",
      "Requirement already satisfied: entrypoints>=0.2.2 in c:\\users\\fanali\\anaconda3\\lib\\site-packages (from nbconvert->jupyter->jupyternotify) (0.3)\n",
      "Requirement already satisfied: testpath in c:\\users\\fanali\\anaconda3\\lib\\site-packages (from nbconvert->jupyter->jupyternotify) (0.4.4)\n",
      "Requirement already satisfied: mistune<2,>=0.8.1 in c:\\users\\fanali\\anaconda3\\lib\\site-packages (from nbconvert->jupyter->jupyternotify) (0.8.4)\n",
      "Requirement already satisfied: pyzmq>=17 in c:\\users\\fanali\\anaconda3\\lib\\site-packages (from notebook->jupyter->jupyternotify) (19.0.1)\n",
      "Requirement already satisfied: prometheus-client in c:\\users\\fanali\\anaconda3\\lib\\site-packages (from notebook->jupyter->jupyternotify) (0.8.0)\n",
      "Requirement already satisfied: terminado>=0.8.1 in c:\\users\\fanali\\anaconda3\\lib\\site-packages (from notebook->jupyter->jupyternotify) (0.8.3)\n",
      "Requirement already satisfied: Send2Trash in c:\\users\\fanali\\anaconda3\\lib\\site-packages (from notebook->jupyter->jupyternotify) (1.5.0)\n",
      "Requirement already satisfied: qtpy in c:\\users\\fanali\\anaconda3\\lib\\site-packages (from qtconsole->jupyter->jupyternotify) (1.9.0)\n",
      "Requirement already satisfied: jsonschema!=2.5.0,>=2.4 in c:\\users\\fanali\\anaconda3\\lib\\site-packages (from nbformat>=4.2.0->ipywidgets->jupyter->jupyternotify) (3.2.0)\n",
      "Requirement already satisfied: python-dateutil>=2.1 in c:\\users\\fanali\\anaconda3\\lib\\site-packages (from jupyter-client->ipykernel->jupyter->jupyternotify) (2.8.1)\n",
      "Requirement already satisfied: pywin32>=1.0; sys_platform == \"win32\" in c:\\users\\fanali\\anaconda3\\lib\\site-packages (from jupyter-core->nbconvert->jupyter->jupyternotify) (227)\n",
      "Requirement already satisfied: packaging in c:\\users\\fanali\\anaconda3\\lib\\site-packages (from bleach->nbconvert->jupyter->jupyternotify) (20.4)\n",
      "Requirement already satisfied: webencodings in c:\\users\\fanali\\anaconda3\\lib\\site-packages (from bleach->nbconvert->jupyter->jupyternotify) (0.5.1)\n",
      "Requirement already satisfied: MarkupSafe>=0.23 in c:\\users\\fanali\\anaconda3\\lib\\site-packages (from jinja2>=2.4->nbconvert->jupyter->jupyternotify) (1.1.1)\n",
      "Requirement already satisfied: attrs>=17.4.0 in c:\\users\\fanali\\anaconda3\\lib\\site-packages (from jsonschema!=2.5.0,>=2.4->nbformat>=4.2.0->ipywidgets->jupyter->jupyternotify) (19.3.0)\n",
      "Requirement already satisfied: pyrsistent>=0.14.0 in c:\\users\\fanali\\anaconda3\\lib\\site-packages (from jsonschema!=2.5.0,>=2.4->nbformat>=4.2.0->ipywidgets->jupyter->jupyternotify) (0.16.0)\n",
      "Requirement already satisfied: pyparsing>=2.0.2 in c:\\users\\fanali\\anaconda3\\lib\\site-packages (from packaging->bleach->nbconvert->jupyter->jupyternotify) (2.4.7)\n",
      "Building wheels for collected packages: jupyternotify\n",
      "  Building wheel for jupyternotify (setup.py): started\n",
      "  Building wheel for jupyternotify (setup.py): finished with status 'done'\n",
      "  Created wheel for jupyternotify: filename=jupyternotify-0.1.15-py3-none-any.whl size=8726 sha256=fa1293b8eca2ede653d7fe2ea2c735833b1aa72fb3f47b7b20251c49b61e46b2\n",
      "  Stored in directory: c:\\users\\fanali\\appdata\\local\\pip\\cache\\wheels\\2d\\ff\\e5\\bced088d6443a70f72ee86f9e46f11056c981100c2d3cfadfb\n",
      "Successfully built jupyternotify\n",
      "Installing collected packages: jupyternotify\n",
      "Successfully installed jupyternotify-0.1.15\n"
     ]
    }
   ],
   "source": [
    "!pip install jupyternotify"
   ]
  },
  {
   "cell_type": "code",
   "execution_count": 7,
   "metadata": {},
   "outputs": [
    {
     "data": {
      "application/javascript": [
       "if (!(\"Notification\" in window)) {\n",
       "    alert(\"This browser does not support desktop notifications, so the %%notify magic will not work.\");\n",
       "} else if (Notification.permission !== 'granted' && Notification.permission !== 'denied') {\n",
       "    Notification.requestPermission(function (permission) {\n",
       "        if(!('permission' in Notification)) {\n",
       "            Notification.permission = permission;\n",
       "        }\n",
       "    })\n",
       "}\n"
      ],
      "text/plain": [
       "<IPython.core.display.Javascript object>"
      ]
     },
     "metadata": {},
     "output_type": "display_data"
    }
   ],
   "source": [
    "%load_ext jupyternotify"
   ]
  },
  {
   "cell_type": "code",
   "execution_count": 9,
   "metadata": {},
   "outputs": [
    {
     "name": "stdout",
     "output_type": "stream",
     "text": [
      "Cell finished executed!\n"
     ]
    },
    {
     "data": {
      "application/javascript": [
       "$(document).ready(\n",
       "    function() {\n",
       "        function appendUniqueDiv(){\n",
       "            // append a div with our uuid so we can check that it's already\n",
       "            // been sent and avoid duplicates on page reload\n",
       "            var notifiedDiv = document.createElement(\"div\")\n",
       "            notifiedDiv.id = \"5383a4be-9c6d-4c78-8751-6380a65616b0\"\n",
       "            element.append(notifiedDiv)\n",
       "        }\n",
       "\n",
       "        // only send notifications if the pageload is complete; this will\n",
       "        // help stop extra notifications when a saved notebook is loaded,\n",
       "        // which during testing gives us state \"interactive\", not \"complete\"\n",
       "        if (document.readyState === 'complete') {\n",
       "            // check for the div that signifies that the notification\n",
       "            // was already sent\n",
       "            if (document.getElementById(\"5383a4be-9c6d-4c78-8751-6380a65616b0\") === null) {\n",
       "                var notificationPayload = {\"requireInteraction\": false, \"icon\": \"/static/base/images/favicon.ico\", \"body\": \"Cell execution has finished!\"};\n",
       "                if (Notification.permission !== 'denied') {\n",
       "                    if (Notification.permission !== 'granted') { \n",
       "                        Notification.requestPermission(function (permission) {\n",
       "                            if(!('permission' in Notification)) {\n",
       "                                Notification.permission = permission\n",
       "                            }\n",
       "                        })\n",
       "                    }\n",
       "                    if (Notification.permission === 'granted') {\n",
       "                    var notification = new Notification(\"Jupyter Notebook\", notificationPayload)\n",
       "                    appendUniqueDiv()\n",
       "                    notification.onclick = function () {\n",
       "                        window.focus();\n",
       "                        this.close();\n",
       "                        };\n",
       "                    } \n",
       "                }     \n",
       "            }\n",
       "        }\n",
       "    }\n",
       ")\n"
      ],
      "text/plain": [
       "<IPython.core.display.Javascript object>"
      ]
     },
     "metadata": {},
     "output_type": "display_data"
    }
   ],
   "source": [
    "%%notify\n",
    "\n",
    "import time\n",
    "import random\n",
    "\n",
    "r = random.randint(3, 6)\n",
    "time.sleep(r)\n",
    "\n",
    "print('Cell finished executed!')"
   ]
  },
  {
   "cell_type": "markdown",
   "metadata": {},
   "source": [
    "### Create a slideshow out of your notebook"
   ]
  },
  {
   "cell_type": "markdown",
   "metadata": {},
   "source": [
    "view --> cell toolbar --> slideshow"
   ]
  },
  {
   "cell_type": "markdown",
   "metadata": {},
   "source": [
    "Slides - Main option </br>\n",
    "Sub-slide - fill full screen </br>\n",
    "Fragments - underneath slide/sub-slide add additional information </br>\n",
    "Skip - don't include cell </br>\n",
    "Notes - don't include cell </br>"
   ]
  },
  {
   "cell_type": "code",
   "execution_count": null,
   "metadata": {},
   "outputs": [],
   "source": []
  }
 ],
 "metadata": {
  "kernelspec": {
   "display_name": "Python 3",
   "language": "python",
   "name": "python3"
  },
  "language_info": {
   "codemirror_mode": {
    "name": "ipython",
    "version": 3
   },
   "file_extension": ".py",
   "mimetype": "text/x-python",
   "name": "python",
   "nbconvert_exporter": "python",
   "pygments_lexer": "ipython3",
   "version": "3.8.3"
  }
 },
 "nbformat": 4,
 "nbformat_minor": 4
}
